{
 "cells": [
  {
   "cell_type": "markdown",
   "id": "weird-perth",
   "metadata": {},
   "source": [
    "# Format datas"
   ]
  },
  {
   "cell_type": "markdown",
   "id": "civic-house",
   "metadata": {},
   "source": [
    "## Libs :"
   ]
  },
  {
   "cell_type": "code",
   "execution_count": 1,
   "id": "growing-palace",
   "metadata": {},
   "outputs": [],
   "source": [
    "import json\n",
    "import numpy as np\n",
    "import pandas as pd"
   ]
  },
  {
   "cell_type": "markdown",
   "id": "motivated-bracelet",
   "metadata": {},
   "source": [
    "## Parameters :"
   ]
  },
  {
   "cell_type": "code",
   "execution_count": 2,
   "id": "convinced-conditioning",
   "metadata": {},
   "outputs": [],
   "source": [
    "path = 'output/romain'\n",
    "rssi_csv_output = 'rssi.csv'\n",
    "\n",
    "# preparing datas :\n",
    "# for removing access points :\n",
    "ap_ignoring_threshold = 0.1 # 0 - 1 ; minimum occurence average that an access point need to have in zones\n",
    "#if more then the value -95 will be used, if less, the access point will be removed\n",
    "#threshold (0 - 1) to average when missing RSSI :\n",
    "acquisition_average_threshold = 0.8 # in an acquisition within a certain position\n",
    "zone_average_threshold = 0.7 # in a zone between the positions"
   ]
  },
  {
   "cell_type": "markdown",
   "id": "controversial-light",
   "metadata": {},
   "source": [
    "## Variables :"
   ]
  },
  {
   "cell_type": "code",
   "execution_count": 3,
   "id": "wanted-johnston",
   "metadata": {},
   "outputs": [],
   "source": [
    "rssi = []\n",
    "mac = []\n",
    "position_changes = [] # acquisition numbers corresponding to a change of position"
   ]
  },
  {
   "cell_type": "markdown",
   "id": "challenging-spotlight",
   "metadata": {},
   "source": [
    "## Import datas :"
   ]
  },
  {
   "cell_type": "code",
   "execution_count": 4,
   "id": "suitable-court",
   "metadata": {
    "scrolled": true
   },
   "outputs": [
    {
     "name": "stdout",
     "output_type": "stream",
     "text": [
      "number of positions :  11\n",
      "number of acquisitions (first acquisition) :  5\n",
      "number of RSSI detected (first acquisition) :  49\n",
      "mac and RSSI (first acquisition) :  2\n",
      "[0, 5, 10, 15, 20, 25, 30, 35, 40, 45, 50, 55]\n",
      "number of acquisition :  55\n",
      "number of access points (mac) detected :  154\n",
      "[[-66. -66. -65. ...   0.   0.   0.]\n",
      " [-68. -65. -65. ...   0.   0.   0.]\n",
      " [-68. -65. -66. ...   0.   0.   0.]\n",
      " ...\n",
      " [-60. -73. -72. ... -83. -83.   0.]\n",
      " [-56. -72. -73. ... -83. -83.   0.]\n",
      " [-55. -71. -70. ... -83. -83. -83.]]\n"
     ]
    }
   ],
   "source": [
    "# Opening JSON file\n",
    "f = open('output/romain/h106.json')\n",
    "\n",
    "# returns JSON object as a dictionary\n",
    "data = json.load(f)\n",
    "\n",
    "print(\"number of positions : \",len(data))\n",
    "print(\"number of acquisitions (first acquisition) : \",len(data['output4']))\n",
    "print(\"number of RSSI detected (first acquisition) : \",len(data['output4'][0]))\n",
    "print(\"mac and RSSI (first acquisition) : \",len(data['output4'][0][0]))\n",
    "\n",
    "#compute the number of acquisitions (and saving the position changes) :\n",
    "n_acquisition = 0\n",
    "i_position = -1\n",
    "for position in data:\n",
    "    i_acquisition = -1\n",
    "    i_position += 1\n",
    "    position_changes.append(n_acquisition)\n",
    "    for acquisition in data[position]:\n",
    "        i_acquisition += 1\n",
    "        n_access_points = len(data[position][i_acquisition])\n",
    "        for i_access_point in range(n_access_points):\n",
    "            i_mac = data[position][i_acquisition][i_access_point]['mac']\n",
    "            #check if mac address is already known :\n",
    "            if not i_mac in mac:\n",
    "                mac.append(i_mac) #if not, add it in the mac array\n",
    "    n_acquisition += i_acquisition + 1\n",
    "\n",
    "position_changes.append(n_acquisition)\n",
    "print(position_changes)\n",
    "n_mac = len(mac)\n",
    "print(\"number of acquisition : \", n_acquisition)\n",
    "print(\"number of access points (mac) detected : \", n_mac)\n",
    "\n",
    "#initialize the array with all the rssi values :\n",
    "rssi = np.zeros([n_acquisition, n_mac])\n",
    "\n",
    "#print(data['output4'][1])\n",
    "\n",
    "acquisition_index_for_rssi_array = -1\n",
    "i_position = -1\n",
    "for position in data:\n",
    "    i_acquisition = -1\n",
    "    i_position += 1\n",
    "    #print(\"\\n\",i_position)\n",
    "    for acquisition in data[position]:\n",
    "        i_acquisition += 1\n",
    "        acquisition_index_for_rssi_array += 1\n",
    "        n_access_points = len(data[position][i_acquisition])\n",
    "        #print(\"\\n\",i_acquisition)\n",
    "        #print(n_access_points)\n",
    "        #print(len(data[position][i_acquisition]))\n",
    "        for i_access_point in range(n_access_points):\n",
    "            #print(\"\\n\",i_access_point)\n",
    "            i_mac = data[position][i_acquisition][i_access_point]['mac']\n",
    "            #print(\"mac : \",mac)\n",
    "            i_rssi = data[position][i_acquisition][i_access_point]['RSSI']\n",
    "            #print(\"RSSI : \",rssi)\n",
    "            #print(data[position][i_acquisition][i_access_point])\n",
    "            #add the RSSI value in the rssi array :\n",
    "            #print(mac.index(i_mac))\n",
    "            rssi[acquisition_index_for_rssi_array, mac.index(i_mac)] = i_rssi\n",
    "\n",
    "print(rssi)"
   ]
  },
  {
   "cell_type": "markdown",
   "id": "fifteen-reform",
   "metadata": {},
   "source": [
    "## prepare datas"
   ]
  },
  {
   "cell_type": "code",
   "execution_count": 5,
   "id": "departmental-forest",
   "metadata": {},
   "outputs": [
    {
     "name": "stdout",
     "output_type": "stream",
     "text": [
      "50 access point will be deleted\n",
      "(55, 154)\n",
      "(55, 104)\n"
     ]
    }
   ],
   "source": [
    "# average within acquisitions :\n",
    "# for each access point\n",
    "for access_point in range(len(mac)):\n",
    "    #for each position :\n",
    "    for position in range(len(position_changes) - 1) :\n",
    "        number_of_zeros = 0\n",
    "        number_of_acquisitions = position_changes[position + 1] - position_changes[position]\n",
    "        #print(position_changes[position])\n",
    "        # computing the number of 0 for the position\n",
    "        for acquisition in range(number_of_acquisitions):\n",
    "            #print(position_changes[position] + acquisition)\n",
    "            if rssi[position_changes[position] + acquisition, access_point] == 0: #if rssi = 0 aka not detected\n",
    "                #print(position_changes[position] + acquisition, access_point) # print the indexs of the RSSI\n",
    "                number_of_zeros += 1\n",
    "        #print(number_of_zeros)\n",
    "        #print(number_of_acquisitions)\n",
    "        if number_of_zeros/number_of_acquisitions <= 1.000000000000001 - acquisition_average_threshold:            \n",
    "            #the number of zeros is low enough to fill the value of rssi with the average\n",
    "            #computing the average :\n",
    "            rssi_acquisition_values = rssi[position_changes[position]:position_changes[position + 1], access_point]\n",
    "            rssi_acquisition_values = rssi_acquisition_values[rssi_acquisition_values != 0]\n",
    "            average_value = np.average(rssi_acquisition_values)\n",
    "            #print(rssi_acquisition_values)\n",
    "            for acquisition in range(number_of_acquisitions):\n",
    "                if rssi[position_changes[position] + acquisition, access_point] == 0: #if rssi = 0 aka not detected\n",
    "                    rssi[position_changes[position] + acquisition, access_point] = average_value\n",
    "\n",
    "access_point_to_delete = []\n",
    "# average within zone :\n",
    "# for each access point\n",
    "number_of_acquisitions = position_changes[-1] # position_changes[-1] correspond to the number of acquisitions\n",
    "for access_point in range(len(mac)):\n",
    "    number_of_zeros = 0\n",
    "    for acquisition in range(number_of_acquisitions): \n",
    "        if rssi[acquisition, access_point] == 0: #if rssi = 0 aka not detected\n",
    "            number_of_zeros += 1\n",
    "    if number_of_zeros == 0:\n",
    "        pass # nothing to do as each rssi value in the array is filled\n",
    "    elif number_of_zeros/number_of_acquisitions <= 1.000000000000001 - zone_average_threshold:\n",
    "        #the average will be used to complete\n",
    "        #computing the average :\n",
    "        rssi_acquisition_values = rssi[:, access_point]\n",
    "        rssi_acquisition_values = rssi_acquisition_values[rssi_acquisition_values != 0]\n",
    "        average_value = np.average(rssi_acquisition_values)\n",
    "        for acquisition in range(number_of_acquisitions):\n",
    "            if rssi[acquisition, access_point] == 0: #if rssi = 0 aka not detected\n",
    "                rssi[acquisition, access_point] = average_value\n",
    "    elif number_of_zeros/number_of_acquisitions <= 1.000000000000001 - ap_ignoring_threshold:\n",
    "        #filling the RSSI value with -95 as it's not detected and we suppose the access point is too far\n",
    "        for acquisition in range(number_of_acquisitions):\n",
    "            if rssi[acquisition, access_point] == 0: #if rssi = 0 aka not detected\n",
    "                rssi[acquisition, access_point] = -95\n",
    "    else:\n",
    "        #delete the access point with not enough measures\n",
    "        #print(\"this access point will be deleted : \", rssi[:, access_point])\n",
    "        access_point_to_delete.append(access_point)\n",
    "        #rssi = np.delete(rssi, access_point, 1)\n",
    "        \n",
    "print(len(access_point_to_delete), \"access point will be deleted\")\n",
    "print(np.shape(rssi))\n",
    "rssi = np.delete(rssi, access_point_to_delete, 1)\n",
    "print(np.shape(rssi))\n",
    "                \n",
    "# convert array into dataframe\n",
    "DF = pd.DataFrame(rssi)\n",
    "  \n",
    "# save the dataframe as a csv file\n",
    "DF.to_csv(rssi_csv_output)"
   ]
  }
 ],
 "metadata": {
  "kernelspec": {
   "display_name": "Python 3",
   "language": "python",
   "name": "python3"
  },
  "language_info": {
   "codemirror_mode": {
    "name": "ipython",
    "version": 3
   },
   "file_extension": ".py",
   "mimetype": "text/x-python",
   "name": "python",
   "nbconvert_exporter": "python",
   "pygments_lexer": "ipython3",
   "version": "3.6.9"
  }
 },
 "nbformat": 4,
 "nbformat_minor": 5
}

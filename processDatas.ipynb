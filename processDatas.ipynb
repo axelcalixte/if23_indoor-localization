{
 "cells": [
  {
   "cell_type": "markdown",
   "id": "weird-perth",
   "metadata": {},
   "source": [
    "# Format datas"
   ]
  },
  {
   "cell_type": "markdown",
   "id": "civic-house",
   "metadata": {},
   "source": [
    "## Libs :"
   ]
  },
  {
   "cell_type": "code",
   "execution_count": 1,
   "id": "growing-palace",
   "metadata": {},
   "outputs": [],
   "source": [
    "import json\n",
    "import numpy as np\n",
    "import pandas as pd"
   ]
  },
  {
   "cell_type": "markdown",
   "id": "motivated-bracelet",
   "metadata": {},
   "source": [
    "## Parameters :"
   ]
  },
  {
   "cell_type": "code",
   "execution_count": 2,
   "id": "convinced-conditioning",
   "metadata": {},
   "outputs": [],
   "source": [
    "path = 'output/romain'\n",
    "rssi_csv_output = 'rssi.csv'"
   ]
  },
  {
   "cell_type": "markdown",
   "id": "controversial-light",
   "metadata": {},
   "source": [
    "## Variables :"
   ]
  },
  {
   "cell_type": "code",
   "execution_count": 3,
   "id": "wanted-johnston",
   "metadata": {},
   "outputs": [],
   "source": [
    "rssi = []\n",
    "mac = []"
   ]
  },
  {
   "cell_type": "markdown",
   "id": "challenging-spotlight",
   "metadata": {},
   "source": [
    "## Importing datas :"
   ]
  },
  {
   "cell_type": "code",
   "execution_count": 4,
   "id": "suitable-court",
   "metadata": {},
   "outputs": [
    {
     "name": "stdout",
     "output_type": "stream",
     "text": [
      "number of positions :  11\n",
      "number of acquisitions (first acquisition) :  5\n",
      "number of RSSI detected (first acquisition) :  49\n",
      "mac and RSSI (first acquisition) :  2\n",
      "number of acquisition :  55\n",
      "number of access points (mac) detected :  154\n",
      "[[-66. -66. -65. ...   0.   0.   0.]\n",
      " [-68. -65. -65. ...   0.   0.   0.]\n",
      " [-68. -65. -66. ...   0.   0.   0.]\n",
      " ...\n",
      " [-60. -73. -72. ... -83. -83.   0.]\n",
      " [-56. -72. -73. ... -83. -83.   0.]\n",
      " [-55. -71. -70. ... -83. -83. -83.]]\n"
     ]
    }
   ],
   "source": [
    "# Opening JSON file\n",
    "f = open('output/romain/h106.json')\n",
    "\n",
    "# returns JSON object as a dictionary\n",
    "data = json.load(f)\n",
    "\n",
    "print(\"number of positions : \",len(data))\n",
    "print(\"number of acquisitions (first acquisition) : \",len(data['output4']))\n",
    "print(\"number of RSSI detected (first acquisition) : \",len(data['output4'][0]))\n",
    "print(\"mac and RSSI (first acquisition) : \",len(data['output4'][0][0]))\n",
    "\n",
    "#compute the number of acquisitions :\n",
    "n_acquisition = 0\n",
    "i_position = -1\n",
    "for position in data:\n",
    "    i_acquisition = -1\n",
    "    i_position += 1\n",
    "    for acquisition in data[position]:\n",
    "        i_acquisition += 1\n",
    "        n_access_points = len(data[position][i_acquisition])\n",
    "        for i_access_point in range(n_access_points):\n",
    "            i_mac = data[position][i_acquisition][i_access_point]['mac']\n",
    "            #check if mac address is already known :\n",
    "            if not i_mac in mac:\n",
    "                mac.append(i_mac) #if not, add it in the mac array\n",
    "    n_acquisition += i_acquisition + 1\n",
    "\n",
    "n_mac = len(mac)\n",
    "print(\"number of acquisition : \", n_acquisition)\n",
    "print(\"number of access points (mac) detected : \", n_mac)\n",
    "\n",
    "#initialize the array with all the rssi values :\n",
    "rssi = np.zeros([n_acquisition, n_mac])\n",
    "\n",
    "#print(data['output4'][1])\n",
    "\n",
    "acquisition_index_for_rssi_array = -1\n",
    "i_position = -1\n",
    "for position in data:\n",
    "    i_acquisition = -1\n",
    "    i_position += 1\n",
    "    #print(\"\\n\",i_position)\n",
    "    for acquisition in data[position]:\n",
    "        i_acquisition += 1\n",
    "        acquisition_index_for_rssi_array += 1\n",
    "        n_access_points = len(data[position][i_acquisition])\n",
    "        #print(\"\\n\",i_acquisition)\n",
    "        #print(n_access_points)\n",
    "        #print(len(data[position][i_acquisition]))\n",
    "        for i_access_point in range(n_access_points):\n",
    "            #print(\"\\n\",i_access_point)\n",
    "            i_mac = data[position][i_acquisition][i_access_point]['mac']\n",
    "            #print(\"mac : \",mac)\n",
    "            i_rssi = data[position][i_acquisition][i_access_point]['RSSI']\n",
    "            #print(\"RSSI : \",rssi)\n",
    "            #print(data[position][i_acquisition][i_access_point])\n",
    "            #add the RSSI value in the rssi array :\n",
    "            #print(mac.index(i_mac))\n",
    "            rssi[acquisition_index_for_rssi_array, mac.index(i_mac)] = i_rssi\n",
    "\n",
    "print(rssi)\n",
    "\n",
    "# convert array into dataframe\n",
    "DF = pd.DataFrame(rssi)\n",
    "  \n",
    "# save the dataframe as a csv file\n",
    "DF.to_csv(rssi_csv_output)"
   ]
  }
 ],
 "metadata": {
  "kernelspec": {
   "display_name": "Python 3",
   "language": "python",
   "name": "python3"
  },
  "language_info": {
   "codemirror_mode": {
    "name": "ipython",
    "version": 3
   },
   "file_extension": ".py",
   "mimetype": "text/x-python",
   "name": "python",
   "nbconvert_exporter": "python",
   "pygments_lexer": "ipython3",
   "version": "3.6.9"
  }
 },
 "nbformat": 4,
 "nbformat_minor": 5
}

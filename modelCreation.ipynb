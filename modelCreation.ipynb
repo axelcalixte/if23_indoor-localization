{
 "cells": [
  {
   "cell_type": "markdown",
   "id": "d66d613d",
   "metadata": {},
   "source": [
    "# Model creation"
   ]
  },
  {
   "cell_type": "markdown",
   "id": "99dad304",
   "metadata": {},
   "source": [
    "## Libs"
   ]
  },
  {
   "cell_type": "code",
   "execution_count": 1,
   "id": "092932a3",
   "metadata": {},
   "outputs": [
    {
     "name": "stderr",
     "output_type": "stream",
     "text": [
      "2022-06-18 17:38:23.637126: I tensorflow/core/util/util.cc:169] oneDNN custom operations are on. You may see slightly different numerical results due to floating-point round-off errors from different computation orders. To turn them off, set the environment variable `TF_ENABLE_ONEDNN_OPTS=0`.\n",
      "2022-06-18 17:38:23.639978: W tensorflow/stream_executor/platform/default/dso_loader.cc:64] Could not load dynamic library 'libcudart.so.11.0'; dlerror: libcudart.so.11.0: cannot open shared object file: No such file or directory\n",
      "2022-06-18 17:38:23.639987: I tensorflow/stream_executor/cuda/cudart_stub.cc:29] Ignore above cudart dlerror if you do not have a GPU set up on your machine.\n"
     ]
    }
   ],
   "source": [
    "from prepareRSSI import RssiDatas\n",
    "import pandas as pd\n",
    "import parameters as param\n",
    "import numpy as np\n",
    "import tensorflow as tf\n",
    "#import intel-tensorflow as tf\n",
    "from sklearn.model_selection import train_test_split\n",
    "import matplotlib.pyplot as plt\n",
    "from tensorflow.keras import backend as K # to set the learning rate\n"
   ]
  },
  {
   "cell_type": "markdown",
   "id": "0850be63",
   "metadata": {},
   "source": [
    "## Import the RSSI, mac and zones values"
   ]
  },
  {
   "cell_type": "code",
   "execution_count": 2,
   "id": "bd0668e1",
   "metadata": {},
   "outputs": [
    {
     "name": "stdout",
     "output_type": "stream",
     "text": [
      "RSSI shape : (265, 128)\n",
      "RSSI :\n",
      " [[-72.   -70.   -78.   ... -95.   -95.   -95.  ]\n",
      " [-67.25 -69.   -80.5  ... -95.   -95.   -95.  ]\n",
      " [-66.   -68.   -79.   ... -95.   -95.   -95.  ]\n",
      " ...\n",
      " [-68.   -68.   -60.   ... -83.   -95.   -83.  ]\n",
      " [-64.   -69.   -63.   ... -95.   -95.   -83.  ]\n",
      " [-67.   -67.   -63.   ... -95.   -95.   -83.  ]]\n",
      "mac size :  128\n",
      "Zones size : 265\n",
      "Zones :\n",
      " [0. 0. 0. 0. 0. 0. 0. 0. 0. 0. 0. 0. 0. 0. 0. 0. 0. 0. 0. 0. 0. 0. 0. 0.\n",
      " 0. 0. 0. 0. 0. 0. 0. 0. 0. 0. 0. 1. 1. 1. 1. 1. 1. 1. 1. 1. 1. 1. 1. 1.\n",
      " 1. 1. 1. 1. 1. 1. 1. 1. 1. 1. 1. 1. 1. 1. 1. 1. 1. 1. 1. 1. 1. 1. 1. 1.\n",
      " 1. 1. 1. 1. 1. 1. 1. 1. 1. 1. 1. 1. 1. 2. 2. 2. 2. 2. 2. 2. 2. 2. 2. 2.\n",
      " 2. 2. 2. 2. 2. 2. 2. 2. 2. 2. 2. 2. 2. 2. 3. 3. 3. 3. 3. 3. 3. 3. 3. 3.\n",
      " 3. 3. 3. 3. 3. 3. 3. 3. 3. 3. 3. 3. 3. 3. 3. 3. 3. 3. 3. 3. 3. 3. 3. 3.\n",
      " 3. 3. 3. 3. 3. 3. 4. 4. 4. 4. 4. 4. 4. 4. 4. 4. 4. 4. 4. 4. 4. 4. 4. 4.\n",
      " 4. 4. 4. 4. 4. 4. 4. 4. 4. 4. 4. 4. 5. 5. 5. 5. 5. 5. 5. 5. 5. 5. 5. 5.\n",
      " 5. 5. 5. 5. 5. 5. 5. 5. 5. 5. 5. 5. 5. 5. 5. 5. 5. 5. 5. 5. 5. 5. 5. 5.\n",
      " 5. 5. 5. 5. 5. 5. 5. 5. 5. 5. 5. 5. 5. 5. 5. 5. 5. 5. 5. 6. 6. 6. 6. 6.\n",
      " 6. 6. 6. 6. 6. 6. 6. 6. 6. 6. 6. 6. 6. 6. 6. 6. 6. 6. 6. 6. 6. 6. 6. 6.\n",
      " 6.]\n"
     ]
    }
   ],
   "source": [
    "RSSI = RssiDatas()\n",
    "\n",
    "#df = pd.read_csv(param.rssi_csv_output)\n",
    "#df.head(100)\n",
    "\n",
    "rssi_tmp = np.genfromtxt(param.rssi_csv_output, delimiter=',')\n",
    "# deleting index column and row :\n",
    "rssi_tmp = np.delete(rssi_tmp, 0, 1)\n",
    "RSSI.rssi = np.delete(rssi_tmp, 0, 0)\n",
    "\n",
    "print(\"RSSI shape :\",np.shape(RSSI.rssi))\n",
    "print(\"RSSI :\\n\",RSSI.rssi)\n",
    "\n",
    "mac_tmp = np.genfromtxt(param.mac_csv_output, delimiter=',', dtype=str)\n",
    "# deleting index column and row :\n",
    "mac_tmp = mac_tmp[:,1] # keep only the column with the mac adresses\n",
    "RSSI.mac = np.delete(mac_tmp, 0) # delete the first row because empty\n",
    "print(\"mac size : \", np.size(RSSI.mac))\n",
    "#print(\"mac :\\n\",RSSI.mac)\n",
    "\n",
    "zones_tmp = np.genfromtxt(param.zones_csv_output, delimiter=',')\n",
    "# deleting index column and row :\n",
    "zones_tmp = zones_tmp[:,1] # keep only the colomn with the zone ids\n",
    "RSSI.zones = np.delete(zones_tmp, 0, 0) # delete the first row because empty\n",
    "\n",
    "print(\"Zones size :\",np.size(RSSI.zones))\n",
    "print(\"Zones :\\n\",RSSI.zones)"
   ]
  },
  {
   "cell_type": "markdown",
   "id": "7418b431",
   "metadata": {},
   "source": [
    "## Create training and test dataset"
   ]
  },
  {
   "cell_type": "raw",
   "id": "96d4c957",
   "metadata": {},
   "source": [
    "test_set, valid_set, train_set = tfds.load(\"cifar10\", \n",
    "                                           split=[\"test\", \"train[0%:20%]\", \"train[20%:]\"],\n",
    "                                           as_supervised=True, with_info=True)"
   ]
  },
  {
   "cell_type": "code",
   "execution_count": null,
   "id": "66ae73a5",
   "metadata": {},
   "outputs": [],
   "source": []
  },
  {
   "cell_type": "markdown",
   "id": "8681789c",
   "metadata": {},
   "source": [
    "## Create the model"
   ]
  },
  {
   "cell_type": "raw",
   "id": "ccce0bde",
   "metadata": {},
   "source": [
    "# create a tensor with X values\n",
    "xs = tf.tensor([0, 1, 2, 3, 4]);\n",
    "# create a tensor with Y correct answers\n",
    "ys = xs.mul(1.2).add(5);\n",
    "\n",
    "# create a sequential model\n",
    "model = tf.sequential();\n",
    "\n",
    "# adding layers :\n",
    "model.add(tf.layers.dense({units:1, inputShape:[1]}));\n",
    "\n",
    "# compile the model\n",
    "model.compile({loss:'meanSquaredError', optimizer:'sgd'});"
   ]
  },
  {
   "cell_type": "markdown",
   "id": "0bd90da7",
   "metadata": {},
   "source": [
    "## Train the model"
   ]
  },
  {
   "cell_type": "raw",
   "id": "ecc956a3",
   "metadata": {},
   "source": [
    "model.fit(xs, ys, {epochs:500}).then(() => {myFunction()});"
   ]
  },
  {
   "cell_type": "markdown",
   "id": "df91fce1",
   "metadata": {},
   "source": [
    "## Load data"
   ]
  },
  {
   "cell_type": "code",
   "execution_count": 3,
   "id": "8deff0ce",
   "metadata": {},
   "outputs": [
    {
     "name": "stdout",
     "output_type": "stream",
     "text": [
      "[[-72.   -70.   -78.   ... -95.   -95.   -95.  ]\n",
      " [-67.25 -69.   -80.5  ... -95.   -95.   -95.  ]\n",
      " [-66.   -68.   -79.   ... -95.   -95.   -95.  ]\n",
      " ...\n",
      " [-68.   -68.   -60.   ... -83.   -95.   -83.  ]\n",
      " [-64.   -69.   -63.   ... -95.   -95.   -83.  ]\n",
      " [-67.   -67.   -63.   ... -95.   -95.   -83.  ]]\n"
     ]
    }
   ],
   "source": [
    "print(RSSI.rssi)"
   ]
  },
  {
   "cell_type": "code",
   "execution_count": 4,
   "id": "1e0d6acd",
   "metadata": {},
   "outputs": [
    {
     "name": "stdout",
     "output_type": "stream",
     "text": [
      "RSSI.rssi :  (265, 128)\n",
      "RSSI.zones :  (265,)\n",
      "train_data :  (198, 128)\n",
      "train_labels :  (198,)\n",
      "test_data :  (67, 128)\n",
      "test_labels :  (67,)\n",
      "[[0.62105263 0.67368421 0.69473684 ... 0.87368421 0.87368421 1.        ]\n",
      " [0.70526316 0.67368421 0.69473684 ... 1.         1.         1.        ]\n",
      " [0.62105263 0.68421053 0.77894737 ... 1.         1.         1.        ]\n",
      " ...\n",
      " [0.69473684 0.75789474 0.8        ... 1.         1.         1.        ]\n",
      " [0.70526316 0.83157895 0.74736842 ... 1.         1.         1.        ]\n",
      " [0.83157895 0.83157895 0.83157895 ... 1.         1.         1.        ]]\n"
     ]
    }
   ],
   "source": [
    "print(\"RSSI.rssi : \", np.shape(RSSI.rssi))\n",
    "print(\"RSSI.zones : \", np.shape(RSSI.zones))\n",
    "train_data, test_data, train_labels, test_labels = train_test_split(RSSI.rssi,RSSI.zones)\n",
    "print(\"train_data : \", np.shape(train_data))\n",
    "print(\"train_labels : \", np.shape(train_labels))\n",
    "print(\"test_data : \", np.shape(test_data))\n",
    "print(\"test_labels : \", np.shape(test_labels))\n",
    "train_data = train_data/(-95)\n",
    "test_data = test_data/(-95)\n",
    "train_labels = train_labels/6\n",
    "test_labels = test_labels/6\n",
    "print(train_data)"
   ]
  },
  {
   "cell_type": "raw",
   "id": "4bbf68b3",
   "metadata": {},
   "source": [
    "fashion_mnist = tf.keras.datasets.fashion_mnist\n",
    "\n",
    "(train_images, train_labels), (test_images, test_labels) = fashion_mnist.load_data()"
   ]
  },
  {
   "cell_type": "markdown",
   "id": "3932df05",
   "metadata": {},
   "source": [
    "## Create the model"
   ]
  },
  {
   "cell_type": "code",
   "execution_count": 5,
   "id": "27692fff",
   "metadata": {},
   "outputs": [
    {
     "name": "stderr",
     "output_type": "stream",
     "text": [
      "2022-06-18 17:38:25.082496: W tensorflow/stream_executor/platform/default/dso_loader.cc:64] Could not load dynamic library 'libcuda.so.1'; dlerror: libcuda.so.1: cannot open shared object file: No such file or directory\n",
      "2022-06-18 17:38:25.082520: W tensorflow/stream_executor/cuda/cuda_driver.cc:269] failed call to cuInit: UNKNOWN ERROR (303)\n",
      "2022-06-18 17:38:25.082536: I tensorflow/stream_executor/cuda/cuda_diagnostics.cc:156] kernel driver does not appear to be running on this host (romain-framework): /proc/driver/nvidia/version does not exist\n",
      "2022-06-18 17:38:25.082719: I tensorflow/core/platform/cpu_feature_guard.cc:193] This TensorFlow binary is optimized with oneAPI Deep Neural Network Library (oneDNN) to use the following CPU instructions in performance-critical operations:  AVX2 AVX512F AVX512_VNNI FMA\n",
      "To enable them in other operations, rebuild TensorFlow with the appropriate compiler flags.\n"
     ]
    }
   ],
   "source": [
    "model = tf.keras.models.Sequential([\n",
    "  #tf.keras.layers.Flatten(input_shape=(28, 28)),\n",
    "  tf.keras.layers.Dense(np.size(RSSI.mac), activation='relu'),\n",
    "  tf.keras.layers.Dense(np.size(RSSI.mac), activation='relu'),\n",
    "  tf.keras.layers.Dense(np.size(RSSI.mac), activation='relu'),\n",
    "  #tf.keras.layers.Dropout(0.2),\n",
    "  #tf.keras.layers.Dense(10)\n",
    "])"
   ]
  },
  {
   "cell_type": "raw",
   "id": "64d406e5",
   "metadata": {},
   "source": [
    "model = tf.keras.models.Sequential([\n",
    "  tf.keras.layers.Flatten(input_shape=(28, 28)),\n",
    "  tf.keras.layers.Dense(128, activation='relu'),\n",
    "  tf.keras.layers.Dropout(0.2),\n",
    "  tf.keras.layers.Dense(10)\n",
    "])"
   ]
  },
  {
   "cell_type": "markdown",
   "id": "8344b68c",
   "metadata": {},
   "source": [
    "## Compile the model"
   ]
  },
  {
   "cell_type": "code",
   "execution_count": 6,
   "id": "a972b96a",
   "metadata": {},
   "outputs": [],
   "source": [
    "model.compile(optimizer='adam',\n",
    "              loss=tf.keras.losses.SparseCategoricalCrossentropy(from_logits=True),\n",
    "              metrics=['accuracy'])\n",
    "K.set_value(model.optimizer.learning_rate, param.learningRate)"
   ]
  },
  {
   "cell_type": "markdown",
   "id": "83c2de7f",
   "metadata": {},
   "source": [
    "## Train the model"
   ]
  },
  {
   "cell_type": "code",
   "execution_count": 7,
   "id": "630b0ea0",
   "metadata": {},
   "outputs": [
    {
     "name": "stdout",
     "output_type": "stream",
     "text": [
      "(198, 128)\n",
      "(198,)\n",
      "Epoch 1/200\n",
      "7/7 [==============================] - 0s 2ms/step - loss: 4.9481 - accuracy: 0.0000e+00\n",
      "Epoch 2/200\n",
      "7/7 [==============================] - 0s 1ms/step - loss: 4.8994 - accuracy: 0.0000e+00\n",
      "Epoch 3/200\n",
      "7/7 [==============================] - 0s 1ms/step - loss: 4.8513 - accuracy: 0.0000e+00\n",
      "Epoch 4/200\n",
      "7/7 [==============================] - 0s 2ms/step - loss: 4.8033 - accuracy: 0.0000e+00\n",
      "Epoch 5/200\n",
      "7/7 [==============================] - 0s 1ms/step - loss: 4.7549 - accuracy: 0.0000e+00\n",
      "Epoch 6/200\n",
      "7/7 [==============================] - 0s 1ms/step - loss: 4.7079 - accuracy: 0.0000e+00\n",
      "Epoch 7/200\n",
      "7/7 [==============================] - 0s 1ms/step - loss: 4.6610 - accuracy: 0.0000e+00\n",
      "Epoch 8/200\n",
      "7/7 [==============================] - 0s 1ms/step - loss: 4.6144 - accuracy: 0.0000e+00\n",
      "Epoch 9/200\n",
      "7/7 [==============================] - 0s 1ms/step - loss: 4.5678 - accuracy: 0.0000e+00\n",
      "Epoch 10/200\n",
      "7/7 [==============================] - 0s 1ms/step - loss: 4.5221 - accuracy: 0.0000e+00\n",
      "Epoch 11/200\n",
      "7/7 [==============================] - 0s 1ms/step - loss: 4.4753 - accuracy: 0.0000e+00\n",
      "Epoch 12/200\n",
      "7/7 [==============================] - 0s 2ms/step - loss: 4.4287 - accuracy: 0.0000e+00\n",
      "Epoch 13/200\n",
      "7/7 [==============================] - 0s 1ms/step - loss: 4.3820 - accuracy: 0.0000e+00\n",
      "Epoch 14/200\n",
      "7/7 [==============================] - 0s 1ms/step - loss: 4.3354 - accuracy: 0.0000e+00\n",
      "Epoch 15/200\n",
      "7/7 [==============================] - 0s 1ms/step - loss: 4.2885 - accuracy: 0.0000e+00\n",
      "Epoch 16/200\n",
      "7/7 [==============================] - 0s 1ms/step - loss: 4.2421 - accuracy: 0.0000e+00\n",
      "Epoch 17/200\n",
      "7/7 [==============================] - 0s 1ms/step - loss: 4.1957 - accuracy: 0.0000e+00\n",
      "Epoch 18/200\n",
      "7/7 [==============================] - 0s 1ms/step - loss: 4.1492 - accuracy: 0.0000e+00\n",
      "Epoch 19/200\n",
      "7/7 [==============================] - 0s 2ms/step - loss: 4.1029 - accuracy: 0.0000e+00\n",
      "Epoch 20/200\n",
      "7/7 [==============================] - 0s 1ms/step - loss: 4.0568 - accuracy: 0.0000e+00\n",
      "Epoch 21/200\n",
      "7/7 [==============================] - 0s 1ms/step - loss: 4.0107 - accuracy: 0.0000e+00\n",
      "Epoch 22/200\n",
      "7/7 [==============================] - 0s 2ms/step - loss: 3.9651 - accuracy: 0.0000e+00\n",
      "Epoch 23/200\n",
      "7/7 [==============================] - 0s 1ms/step - loss: 3.9182 - accuracy: 0.0000e+00\n",
      "Epoch 24/200\n",
      "7/7 [==============================] - 0s 1ms/step - loss: 3.8723 - accuracy: 0.0303\n",
      "Epoch 25/200\n",
      "7/7 [==============================] - 0s 1ms/step - loss: 3.8256 - accuracy: 0.0909\n",
      "Epoch 26/200\n",
      "7/7 [==============================] - 0s 1ms/step - loss: 3.7794 - accuracy: 0.0960\n",
      "Epoch 27/200\n",
      "7/7 [==============================] - 0s 1ms/step - loss: 3.7322 - accuracy: 0.0960\n",
      "Epoch 28/200\n",
      "7/7 [==============================] - 0s 2ms/step - loss: 3.6870 - accuracy: 0.0960\n",
      "Epoch 29/200\n",
      "7/7 [==============================] - 0s 1ms/step - loss: 3.6413 - accuracy: 0.0960\n",
      "Epoch 30/200\n",
      "7/7 [==============================] - 0s 1ms/step - loss: 3.5963 - accuracy: 0.0960\n",
      "Epoch 31/200\n",
      "7/7 [==============================] - 0s 1ms/step - loss: 3.5516 - accuracy: 0.0960\n",
      "Epoch 32/200\n",
      "7/7 [==============================] - 0s 1ms/step - loss: 3.5074 - accuracy: 0.0960\n",
      "Epoch 33/200\n",
      "7/7 [==============================] - 0s 1ms/step - loss: 3.4636 - accuracy: 0.0960\n",
      "Epoch 34/200\n",
      "7/7 [==============================] - 0s 2ms/step - loss: 3.4193 - accuracy: 0.0960\n",
      "Epoch 35/200\n",
      "7/7 [==============================] - 0s 1ms/step - loss: 3.3764 - accuracy: 0.0960\n",
      "Epoch 36/200\n",
      "7/7 [==============================] - 0s 1ms/step - loss: 3.3328 - accuracy: 0.0960\n",
      "Epoch 37/200\n",
      "7/7 [==============================] - 0s 1ms/step - loss: 3.2888 - accuracy: 0.0960\n",
      "Epoch 38/200\n",
      "7/7 [==============================] - 0s 1ms/step - loss: 3.2458 - accuracy: 0.0960\n",
      "Epoch 39/200\n",
      "7/7 [==============================] - 0s 1ms/step - loss: 3.2027 - accuracy: 0.0960\n",
      "Epoch 40/200\n",
      "7/7 [==============================] - 0s 1ms/step - loss: 3.1603 - accuracy: 0.0960\n",
      "Epoch 41/200\n",
      "7/7 [==============================] - 0s 1ms/step - loss: 3.1166 - accuracy: 0.0960\n",
      "Epoch 42/200\n",
      "7/7 [==============================] - 0s 1ms/step - loss: 3.0742 - accuracy: 0.0960\n",
      "Epoch 43/200\n",
      "7/7 [==============================] - 0s 1ms/step - loss: 3.0315 - accuracy: 0.0960\n",
      "Epoch 44/200\n",
      "7/7 [==============================] - 0s 1ms/step - loss: 2.9879 - accuracy: 0.0960\n",
      "Epoch 45/200\n",
      "7/7 [==============================] - 0s 2ms/step - loss: 2.9445 - accuracy: 0.0960\n",
      "Epoch 46/200\n",
      "7/7 [==============================] - 0s 1ms/step - loss: 2.9007 - accuracy: 0.0960\n",
      "Epoch 47/200\n",
      "7/7 [==============================] - 0s 1ms/step - loss: 2.8559 - accuracy: 0.0960\n",
      "Epoch 48/200\n",
      "7/7 [==============================] - 0s 2ms/step - loss: 2.8118 - accuracy: 0.0960\n",
      "Epoch 49/200\n",
      "7/7 [==============================] - 0s 2ms/step - loss: 2.7675 - accuracy: 0.0960\n",
      "Epoch 50/200\n",
      "7/7 [==============================] - 0s 1ms/step - loss: 2.7223 - accuracy: 0.0960\n",
      "Epoch 51/200\n",
      "7/7 [==============================] - 0s 1ms/step - loss: 2.6776 - accuracy: 0.0960\n",
      "Epoch 52/200\n",
      "7/7 [==============================] - 0s 2ms/step - loss: 2.6310 - accuracy: 0.0960\n",
      "Epoch 53/200\n",
      "7/7 [==============================] - 0s 1ms/step - loss: 2.5831 - accuracy: 0.0960\n",
      "Epoch 54/200\n",
      "7/7 [==============================] - 0s 1ms/step - loss: 2.5353 - accuracy: 0.0960\n",
      "Epoch 55/200\n",
      "7/7 [==============================] - 0s 1ms/step - loss: 2.4860 - accuracy: 0.0960\n",
      "Epoch 56/200\n",
      "7/7 [==============================] - 0s 1ms/step - loss: 2.4377 - accuracy: 0.0960\n",
      "Epoch 57/200\n",
      "7/7 [==============================] - 0s 1ms/step - loss: 2.3886 - accuracy: 0.0960\n",
      "Epoch 58/200\n",
      "7/7 [==============================] - 0s 1ms/step - loss: 2.3409 - accuracy: 0.0960\n",
      "Epoch 59/200\n",
      "7/7 [==============================] - 0s 1ms/step - loss: 2.2932 - accuracy: 0.0960\n",
      "Epoch 60/200\n",
      "7/7 [==============================] - 0s 1ms/step - loss: 2.2475 - accuracy: 0.0960\n",
      "Epoch 61/200\n",
      "7/7 [==============================] - 0s 1ms/step - loss: 2.2014 - accuracy: 0.0960\n",
      "Epoch 62/200\n",
      "7/7 [==============================] - 0s 1ms/step - loss: 2.1552 - accuracy: 0.0960\n",
      "Epoch 63/200\n",
      "7/7 [==============================] - 0s 1ms/step - loss: 2.1105 - accuracy: 0.0960\n",
      "Epoch 64/200\n",
      "7/7 [==============================] - 0s 1ms/step - loss: 2.0659 - accuracy: 0.0960\n",
      "Epoch 65/200\n",
      "7/7 [==============================] - 0s 1ms/step - loss: 2.0223 - accuracy: 0.0960\n",
      "Epoch 66/200\n",
      "7/7 [==============================] - 0s 1ms/step - loss: 1.9798 - accuracy: 0.0960\n",
      "Epoch 67/200\n",
      "7/7 [==============================] - 0s 1ms/step - loss: 1.9382 - accuracy: 0.0960\n",
      "Epoch 68/200\n",
      "7/7 [==============================] - 0s 1ms/step - loss: 1.8977 - accuracy: 0.0960\n",
      "Epoch 69/200\n",
      "7/7 [==============================] - 0s 2ms/step - loss: 1.8583 - accuracy: 0.0960\n",
      "Epoch 70/200\n",
      "7/7 [==============================] - 0s 1ms/step - loss: 1.8186 - accuracy: 0.0960\n",
      "Epoch 71/200\n",
      "7/7 [==============================] - 0s 1ms/step - loss: 1.7804 - accuracy: 0.0960\n",
      "Epoch 72/200\n",
      "7/7 [==============================] - 0s 1ms/step - loss: 1.7435 - accuracy: 0.0960\n",
      "Epoch 73/200\n",
      "7/7 [==============================] - 0s 2ms/step - loss: 1.7064 - accuracy: 0.0960\n",
      "Epoch 74/200\n",
      "7/7 [==============================] - 0s 1ms/step - loss: 1.6715 - accuracy: 0.0960\n",
      "Epoch 75/200\n",
      "7/7 [==============================] - 0s 2ms/step - loss: 1.6364 - accuracy: 0.0960\n",
      "Epoch 76/200\n",
      "7/7 [==============================] - 0s 1ms/step - loss: 1.6029 - accuracy: 0.0960\n",
      "Epoch 77/200\n",
      "7/7 [==============================] - 0s 1ms/step - loss: 1.5710 - accuracy: 0.0960\n",
      "Epoch 78/200\n",
      "7/7 [==============================] - 0s 2ms/step - loss: 1.5400 - accuracy: 0.0960\n",
      "Epoch 79/200\n",
      "7/7 [==============================] - 0s 1ms/step - loss: 1.5101 - accuracy: 0.0960\n",
      "Epoch 80/200\n",
      "7/7 [==============================] - 0s 1ms/step - loss: 1.4813 - accuracy: 0.0960\n",
      "Epoch 81/200\n",
      "7/7 [==============================] - 0s 1ms/step - loss: 1.4525 - accuracy: 0.0960\n",
      "Epoch 82/200\n",
      "7/7 [==============================] - 0s 1ms/step - loss: 1.4262 - accuracy: 0.0960\n",
      "Epoch 83/200\n"
     ]
    },
    {
     "name": "stdout",
     "output_type": "stream",
     "text": [
      "7/7 [==============================] - 0s 1ms/step - loss: 1.4001 - accuracy: 0.0960\n",
      "Epoch 84/200\n",
      "7/7 [==============================] - 0s 1ms/step - loss: 1.3744 - accuracy: 0.0960\n",
      "Epoch 85/200\n",
      "7/7 [==============================] - 0s 1ms/step - loss: 1.3498 - accuracy: 0.0960\n",
      "Epoch 86/200\n",
      "7/7 [==============================] - 0s 1ms/step - loss: 1.3263 - accuracy: 0.0960\n",
      "Epoch 87/200\n",
      "7/7 [==============================] - 0s 1ms/step - loss: 1.3035 - accuracy: 0.0960\n",
      "Epoch 88/200\n",
      "7/7 [==============================] - 0s 1ms/step - loss: 1.2823 - accuracy: 0.0960\n",
      "Epoch 89/200\n",
      "7/7 [==============================] - 0s 1ms/step - loss: 1.2617 - accuracy: 0.0960\n",
      "Epoch 90/200\n",
      "7/7 [==============================] - 0s 1ms/step - loss: 1.2421 - accuracy: 0.0960\n",
      "Epoch 91/200\n",
      "7/7 [==============================] - 0s 1ms/step - loss: 1.2239 - accuracy: 0.0960\n",
      "Epoch 92/200\n",
      "7/7 [==============================] - 0s 988us/step - loss: 1.2060 - accuracy: 0.0960\n",
      "Epoch 93/200\n",
      "7/7 [==============================] - 0s 1ms/step - loss: 1.1892 - accuracy: 0.0960\n",
      "Epoch 94/200\n",
      "7/7 [==============================] - 0s 1ms/step - loss: 1.1728 - accuracy: 0.0960\n",
      "Epoch 95/200\n",
      "7/7 [==============================] - 0s 1ms/step - loss: 1.1573 - accuracy: 0.0960\n",
      "Epoch 96/200\n",
      "7/7 [==============================] - 0s 1ms/step - loss: 1.1419 - accuracy: 0.0960\n",
      "Epoch 97/200\n",
      "7/7 [==============================] - 0s 1ms/step - loss: 1.1268 - accuracy: 0.0960\n",
      "Epoch 98/200\n",
      "7/7 [==============================] - 0s 1ms/step - loss: 1.1110 - accuracy: 0.0960\n",
      "Epoch 99/200\n",
      "7/7 [==============================] - 0s 1ms/step - loss: 1.0960 - accuracy: 0.0960\n",
      "Epoch 100/200\n",
      "7/7 [==============================] - 0s 1ms/step - loss: 1.0812 - accuracy: 0.0960\n",
      "Epoch 101/200\n",
      "7/7 [==============================] - 0s 1ms/step - loss: 1.0672 - accuracy: 0.0960\n",
      "Epoch 102/200\n",
      "7/7 [==============================] - 0s 1ms/step - loss: 1.0543 - accuracy: 0.0960\n",
      "Epoch 103/200\n",
      "7/7 [==============================] - 0s 1ms/step - loss: 1.0418 - accuracy: 0.0960\n",
      "Epoch 104/200\n",
      "7/7 [==============================] - 0s 1ms/step - loss: 1.0302 - accuracy: 0.0960\n",
      "Epoch 105/200\n",
      "7/7 [==============================] - 0s 1ms/step - loss: 1.0193 - accuracy: 0.0960\n",
      "Epoch 106/200\n",
      "7/7 [==============================] - 0s 1ms/step - loss: 1.0097 - accuracy: 0.0960\n",
      "Epoch 107/200\n",
      "7/7 [==============================] - 0s 992us/step - loss: 1.0006 - accuracy: 0.0960\n",
      "Epoch 108/200\n",
      "7/7 [==============================] - 0s 1ms/step - loss: 0.9920 - accuracy: 0.0960\n",
      "Epoch 109/200\n",
      "7/7 [==============================] - 0s 1ms/step - loss: 0.9841 - accuracy: 0.0960\n",
      "Epoch 110/200\n",
      "7/7 [==============================] - 0s 1ms/step - loss: 0.9761 - accuracy: 0.0960\n",
      "Epoch 111/200\n",
      "7/7 [==============================] - 0s 1ms/step - loss: 0.9692 - accuracy: 0.0960\n",
      "Epoch 112/200\n",
      "7/7 [==============================] - 0s 1ms/step - loss: 0.9624 - accuracy: 0.0960\n",
      "Epoch 113/200\n",
      "7/7 [==============================] - 0s 1ms/step - loss: 0.9563 - accuracy: 0.0960\n",
      "Epoch 114/200\n",
      "7/7 [==============================] - 0s 1ms/step - loss: 0.9504 - accuracy: 0.0960\n",
      "Epoch 115/200\n",
      "7/7 [==============================] - 0s 1ms/step - loss: 0.9445 - accuracy: 0.0960\n",
      "Epoch 116/200\n",
      "7/7 [==============================] - 0s 1ms/step - loss: 0.9391 - accuracy: 0.0960\n",
      "Epoch 117/200\n",
      "7/7 [==============================] - 0s 1ms/step - loss: 0.9343 - accuracy: 0.0960\n",
      "Epoch 118/200\n",
      "7/7 [==============================] - 0s 1ms/step - loss: 0.9290 - accuracy: 0.0960\n",
      "Epoch 119/200\n",
      "7/7 [==============================] - 0s 1ms/step - loss: 0.9246 - accuracy: 0.0960\n",
      "Epoch 120/200\n",
      "7/7 [==============================] - 0s 1ms/step - loss: 0.9201 - accuracy: 0.0960\n",
      "Epoch 121/200\n",
      "7/7 [==============================] - 0s 1ms/step - loss: 0.9161 - accuracy: 0.0960\n",
      "Epoch 122/200\n",
      "7/7 [==============================] - 0s 1ms/step - loss: 0.9123 - accuracy: 0.0960\n",
      "Epoch 123/200\n",
      "7/7 [==============================] - 0s 1ms/step - loss: 0.9084 - accuracy: 0.0960\n",
      "Epoch 124/200\n",
      "7/7 [==============================] - 0s 1ms/step - loss: 0.9049 - accuracy: 0.0960\n",
      "Epoch 125/200\n",
      "7/7 [==============================] - 0s 1ms/step - loss: 0.9016 - accuracy: 0.0960\n",
      "Epoch 126/200\n",
      "7/7 [==============================] - 0s 1ms/step - loss: 0.8987 - accuracy: 0.0960\n",
      "Epoch 127/200\n",
      "7/7 [==============================] - 0s 1ms/step - loss: 0.8957 - accuracy: 0.0960\n",
      "Epoch 128/200\n",
      "7/7 [==============================] - 0s 1ms/step - loss: 0.8926 - accuracy: 0.0960\n",
      "Epoch 129/200\n",
      "7/7 [==============================] - 0s 997us/step - loss: 0.8898 - accuracy: 0.0960\n",
      "Epoch 130/200\n",
      "7/7 [==============================] - 0s 1ms/step - loss: 0.8870 - accuracy: 0.0960\n",
      "Epoch 131/200\n",
      "7/7 [==============================] - 0s 1ms/step - loss: 0.8847 - accuracy: 0.0960\n",
      "Epoch 132/200\n",
      "7/7 [==============================] - 0s 1ms/step - loss: 0.8824 - accuracy: 0.0960\n",
      "Epoch 133/200\n",
      "7/7 [==============================] - 0s 1ms/step - loss: 0.8804 - accuracy: 0.0960\n",
      "Epoch 134/200\n",
      "7/7 [==============================] - 0s 1ms/step - loss: 0.8783 - accuracy: 0.0960\n",
      "Epoch 135/200\n",
      "7/7 [==============================] - 0s 1ms/step - loss: 0.8764 - accuracy: 0.0960\n",
      "Epoch 136/200\n",
      "7/7 [==============================] - 0s 1ms/step - loss: 0.8746 - accuracy: 0.0960\n",
      "Epoch 137/200\n",
      "7/7 [==============================] - 0s 1ms/step - loss: 0.8727 - accuracy: 0.0960\n",
      "Epoch 138/200\n",
      "7/7 [==============================] - 0s 2ms/step - loss: 0.8711 - accuracy: 0.0960\n",
      "Epoch 139/200\n",
      "7/7 [==============================] - 0s 1ms/step - loss: 0.8693 - accuracy: 0.0960\n",
      "Epoch 140/200\n",
      "7/7 [==============================] - 0s 1ms/step - loss: 0.8679 - accuracy: 0.0960\n",
      "Epoch 141/200\n",
      "7/7 [==============================] - 0s 1ms/step - loss: 0.8667 - accuracy: 0.0960\n",
      "Epoch 142/200\n",
      "7/7 [==============================] - 0s 1ms/step - loss: 0.8653 - accuracy: 0.0960\n",
      "Epoch 143/200\n",
      "7/7 [==============================] - 0s 1ms/step - loss: 0.8641 - accuracy: 0.0960\n",
      "Epoch 144/200\n",
      "7/7 [==============================] - 0s 1ms/step - loss: 0.8631 - accuracy: 0.0960\n",
      "Epoch 145/200\n",
      "7/7 [==============================] - 0s 1ms/step - loss: 0.8620 - accuracy: 0.0960\n",
      "Epoch 146/200\n",
      "7/7 [==============================] - 0s 1ms/step - loss: 0.8609 - accuracy: 0.0960\n",
      "Epoch 147/200\n",
      "7/7 [==============================] - 0s 1ms/step - loss: 0.8600 - accuracy: 0.0960\n",
      "Epoch 148/200\n",
      "7/7 [==============================] - 0s 1ms/step - loss: 0.8590 - accuracy: 0.0960\n",
      "Epoch 149/200\n",
      "7/7 [==============================] - 0s 1ms/step - loss: 0.8581 - accuracy: 0.0960\n",
      "Epoch 150/200\n",
      "7/7 [==============================] - 0s 1ms/step - loss: 0.8572 - accuracy: 0.0960\n",
      "Epoch 151/200\n",
      "7/7 [==============================] - 0s 988us/step - loss: 0.8563 - accuracy: 0.0960\n",
      "Epoch 152/200\n",
      "7/7 [==============================] - 0s 1ms/step - loss: 0.8556 - accuracy: 0.0960\n",
      "Epoch 153/200\n",
      "7/7 [==============================] - 0s 1ms/step - loss: 0.8546 - accuracy: 0.0960\n",
      "Epoch 154/200\n",
      "7/7 [==============================] - 0s 1ms/step - loss: 0.8538 - accuracy: 0.0960\n",
      "Epoch 155/200\n",
      "7/7 [==============================] - 0s 1ms/step - loss: 0.8533 - accuracy: 0.0960\n",
      "Epoch 156/200\n",
      "7/7 [==============================] - 0s 1ms/step - loss: 0.8526 - accuracy: 0.0960\n",
      "Epoch 157/200\n",
      "7/7 [==============================] - 0s 1ms/step - loss: 0.8521 - accuracy: 0.0960\n",
      "Epoch 158/200\n",
      "7/7 [==============================] - 0s 1ms/step - loss: 0.8514 - accuracy: 0.0960\n",
      "Epoch 159/200\n",
      "7/7 [==============================] - 0s 1ms/step - loss: 0.8509 - accuracy: 0.0960\n",
      "Epoch 160/200\n",
      "7/7 [==============================] - 0s 2ms/step - loss: 0.8504 - accuracy: 0.0960\n",
      "Epoch 161/200\n",
      "7/7 [==============================] - 0s 1ms/step - loss: 0.8499 - accuracy: 0.0960\n",
      "Epoch 162/200\n",
      "7/7 [==============================] - 0s 1ms/step - loss: 0.8493 - accuracy: 0.0960\n",
      "Epoch 163/200\n",
      "7/7 [==============================] - 0s 1ms/step - loss: 0.8489 - accuracy: 0.0960\n",
      "Epoch 164/200\n",
      "7/7 [==============================] - 0s 1ms/step - loss: 0.8484 - accuracy: 0.0960\n",
      "Epoch 165/200\n",
      "7/7 [==============================] - 0s 1ms/step - loss: 0.8478 - accuracy: 0.0960\n"
     ]
    },
    {
     "name": "stdout",
     "output_type": "stream",
     "text": [
      "Epoch 166/200\n",
      "7/7 [==============================] - 0s 1ms/step - loss: 0.8475 - accuracy: 0.0960\n",
      "Epoch 167/200\n",
      "7/7 [==============================] - 0s 1ms/step - loss: 0.8471 - accuracy: 0.0960\n",
      "Epoch 168/200\n",
      "7/7 [==============================] - 0s 1ms/step - loss: 0.8467 - accuracy: 0.0960\n",
      "Epoch 169/200\n",
      "7/7 [==============================] - 0s 1ms/step - loss: 0.8463 - accuracy: 0.0960\n",
      "Epoch 170/200\n",
      "7/7 [==============================] - 0s 1ms/step - loss: 0.8460 - accuracy: 0.0960\n",
      "Epoch 171/200\n",
      "7/7 [==============================] - 0s 978us/step - loss: 0.8456 - accuracy: 0.0960\n",
      "Epoch 172/200\n",
      "7/7 [==============================] - 0s 1ms/step - loss: 0.8452 - accuracy: 0.0960\n",
      "Epoch 173/200\n",
      "7/7 [==============================] - 0s 1ms/step - loss: 0.8449 - accuracy: 0.0960\n",
      "Epoch 174/200\n",
      "7/7 [==============================] - 0s 1ms/step - loss: 0.8445 - accuracy: 0.0960\n",
      "Epoch 175/200\n",
      "7/7 [==============================] - 0s 1ms/step - loss: 0.8441 - accuracy: 0.0960\n",
      "Epoch 176/200\n",
      "7/7 [==============================] - 0s 987us/step - loss: 0.8437 - accuracy: 0.0960\n",
      "Epoch 177/200\n",
      "7/7 [==============================] - 0s 1ms/step - loss: 0.8434 - accuracy: 0.0960\n",
      "Epoch 178/200\n",
      "7/7 [==============================] - 0s 1ms/step - loss: 0.8429 - accuracy: 0.0960\n",
      "Epoch 179/200\n",
      "7/7 [==============================] - 0s 1ms/step - loss: 0.8426 - accuracy: 0.0960\n",
      "Epoch 180/200\n",
      "7/7 [==============================] - 0s 1ms/step - loss: 0.8424 - accuracy: 0.0960\n",
      "Epoch 181/200\n",
      "7/7 [==============================] - 0s 1ms/step - loss: 0.8420 - accuracy: 0.0960\n",
      "Epoch 182/200\n",
      "7/7 [==============================] - 0s 1ms/step - loss: 0.8417 - accuracy: 0.0960\n",
      "Epoch 183/200\n",
      "7/7 [==============================] - 0s 1ms/step - loss: 0.8415 - accuracy: 0.0960\n",
      "Epoch 184/200\n",
      "7/7 [==============================] - 0s 1ms/step - loss: 0.8413 - accuracy: 0.0960\n",
      "Epoch 185/200\n",
      "7/7 [==============================] - 0s 1ms/step - loss: 0.8411 - accuracy: 0.0960\n",
      "Epoch 186/200\n",
      "7/7 [==============================] - 0s 1ms/step - loss: 0.8408 - accuracy: 0.0960\n",
      "Epoch 187/200\n",
      "7/7 [==============================] - 0s 1ms/step - loss: 0.8406 - accuracy: 0.0960\n",
      "Epoch 188/200\n",
      "7/7 [==============================] - 0s 1ms/step - loss: 0.8405 - accuracy: 0.0960\n",
      "Epoch 189/200\n",
      "7/7 [==============================] - 0s 1ms/step - loss: 0.8403 - accuracy: 0.0960\n",
      "Epoch 190/200\n",
      "7/7 [==============================] - 0s 1ms/step - loss: 0.8401 - accuracy: 0.0960\n",
      "Epoch 191/200\n",
      "7/7 [==============================] - 0s 1ms/step - loss: 0.8399 - accuracy: 0.0960\n",
      "Epoch 192/200\n",
      "7/7 [==============================] - 0s 1ms/step - loss: 0.8397 - accuracy: 0.0960\n",
      "Epoch 193/200\n",
      "7/7 [==============================] - 0s 1ms/step - loss: 0.8394 - accuracy: 0.0960\n",
      "Epoch 194/200\n",
      "7/7 [==============================] - 0s 1ms/step - loss: 0.8392 - accuracy: 0.0960\n",
      "Epoch 195/200\n",
      "7/7 [==============================] - 0s 973us/step - loss: 0.8390 - accuracy: 0.0960\n",
      "Epoch 196/200\n",
      "7/7 [==============================] - 0s 1ms/step - loss: 0.8389 - accuracy: 0.0960\n",
      "Epoch 197/200\n",
      "7/7 [==============================] - 0s 1ms/step - loss: 0.8387 - accuracy: 0.0960\n",
      "Epoch 198/200\n",
      "7/7 [==============================] - 0s 1ms/step - loss: 0.8385 - accuracy: 0.0960\n",
      "Epoch 199/200\n",
      "7/7 [==============================] - 0s 1ms/step - loss: 0.8383 - accuracy: 0.0960\n",
      "Epoch 200/200\n",
      "7/7 [==============================] - 0s 1ms/step - loss: 0.8380 - accuracy: 0.0960\n",
      "3/3 - 0s - loss: 1.0265 - accuracy: 0.2388 - 78ms/epoch - 26ms/step\n",
      "\n",
      "Test accuracy: 0.23880596458911896\n"
     ]
    }
   ],
   "source": [
    "# feed the model :\n",
    "print(np.shape(train_data))\n",
    "print(np.shape(train_labels))\n",
    "history = model.fit(train_data, train_labels, epochs=200)\n",
    "# evaluate accuracy\n",
    "test_loss, test_acc = model.evaluate(test_data,  test_labels, verbose=2)\n",
    "print('\\nTest accuracy:', test_acc)"
   ]
  },
  {
   "cell_type": "raw",
   "id": "1e41b950",
   "metadata": {},
   "source": [
    "# feed the model :\n",
    "model.fit(train_images, train_labels, epochs=10)\n",
    "# evaluate accuracy\n",
    "test_loss, test_acc = model.evaluate(test_images,  test_labels, verbose=2)\n",
    "print('\\nTest accuracy:', test_acc)"
   ]
  },
  {
   "cell_type": "markdown",
   "id": "efb96707",
   "metadata": {},
   "source": [
    "## Ploting learning datas"
   ]
  },
  {
   "cell_type": "code",
   "execution_count": 9,
   "id": "2ae7e537",
   "metadata": {
    "scrolled": true
   },
   "outputs": [
    {
     "data": {
      "text/plain": [
       "Text(0.5, 0, 'Epoch')"
      ]
     },
     "execution_count": 9,
     "metadata": {},
     "output_type": "execute_result"
    },
    {
     "data": {
      "image/png": "[encoded data removed]",
      "text/plain": [
       "<Figure size 432x288 with 1 Axes>"
      ]
     },
     "metadata": {
      "needs_background": "light"
     },
     "output_type": "display_data"
    },
    {
     "data": {
      "image/png": "[encoded data removed]",
      "text/plain": [
       "<Figure size 432x288 with 1 Axes>"
      ]
     },
     "metadata": {
      "needs_background": "light"
     },
     "output_type": "display_data"
    }
   ],
   "source": [
    "acc = history.history['accuracy']\n",
    "#val_acc = history.history['val_accuracy']\n",
    "loss = history.history['loss']\n",
    "#val_loss = history.history['val_loss']\n",
    "\n",
    "plt.figure(1)\n",
    "plt.plot(acc, label=\"train_acc\")\n",
    "#plt.plot(val_acc,color=\"red\", label=\"train_acc\")\n",
    "plt.title(\"Accuracy - Learning rate = \" + str(param.learningRate))\n",
    "plt.xlabel(\"Epoch\")\n",
    "#name = \"plot_accuracy_lr_\" + str(learningRate) + \".svg\"\n",
    "#name = name.replace(\".\", \",\", 1)\n",
    "#plt.savefig(name, format=\"svg\")\n",
    "\n",
    "plt.figure(2)\n",
    "plt.plot(loss, label=\"train_loss\")\n",
    "#plt.plot(val_loss,color=\"red\", label=\"val_loss\")\n",
    "plt.title(\"Loss - Learning rate = \" + str(param.learningRate))\n",
    "plt.xlabel(\"Epoch\")\n",
    "#name = \"plot_loss_lr_\" + str(learningRate) + \".svg\"\n",
    "#name = name.replace(\".\", \",\", 1)\n",
    "#plt.savefig(name, format=\"svg\")\n",
    "\n"
   ]
  }
 ],
 "metadata": {
  "kernelspec": {
   "display_name": "Python 3 (ipykernel)",
   "language": "python",
   "name": "python3"
  },
  "language_info": {
   "codemirror_mode": {
    "name": "ipython",
    "version": 3
   },
   "file_extension": ".py",
   "mimetype": "text/x-python",
   "name": "python",
   "nbconvert_exporter": "python",
   "pygments_lexer": "ipython3",
   "version": "3.8.10"
  }
 },
 "nbformat": 4,
 "nbformat_minor": 5
}

{
 "cells": [
  {
   "cell_type": "markdown",
   "id": "083157ce",
   "metadata": {},
   "source": [
    "# Prepare RSSI datas :"
   ]
  },
  {
   "cell_type": "markdown",
   "id": "b95d2e37",
   "metadata": {},
   "source": [
    "## Libs :"
   ]
  },
  {
   "cell_type": "code",
   "execution_count": 1,
   "id": "3de96691",
   "metadata": {},
   "outputs": [],
   "source": [
    "from prepareRSSI import RssiDatas\n",
    "import pandas as pd\n",
    "import parameters as param"
   ]
  },
  {
   "cell_type": "markdown",
   "id": "1fd75293",
   "metadata": {},
   "source": [
    "## Import and prepare RSSI values :"
   ]
  },
  {
   "cell_type": "code",
   "execution_count": 2,
   "id": "29569eb4",
   "metadata": {},
   "outputs": [
    {
     "name": "stdout",
     "output_type": "stream",
     "text": [
      "142 access point will be deleted\n"
     ]
    }
   ],
   "source": [
    "RSSI = RssiDatas()\n",
    "\n",
    "\n",
    "RSSI.listMac()\n",
    "\n",
    "#print(RSSI.mac)\n",
    "\n",
    "RSSI.importRssiValues()\n",
    "\n",
    "#print(RSSI.rssi)\n",
    "#print(RSSI.position_changes)\n",
    "\n",
    "# convert array into dataframe\n",
    "DF = pd.DataFrame(RSSI.rssi)\n",
    "\n",
    "# save the dataframe as a csv file\n",
    "DF.to_csv(\"rawRSSI.csv\")\n",
    "    \n",
    "RSSI.correctDataWithinPosition()\n",
    "\n",
    "#print(RSSI.rssi)\n",
    "\n",
    "RSSI.correctDataWithinZone()\n",
    "\n",
    "#print(RSSI.rssi)\n",
    "\n",
    "RSSI.correctDataByDeletingMac()\n",
    "\n",
    "#print(RSSI.rssi)\n",
    "\n",
    "RSSI.exportDatas()"
   ]
  }
 ],
 "metadata": {
  "kernelspec": {
   "display_name": "Python 3 (ipykernel)",
   "language": "python",
   "name": "python3"
  },
  "language_info": {
   "codemirror_mode": {
    "name": "ipython",
    "version": 3
   },
   "file_extension": ".py",
   "mimetype": "text/x-python",
   "name": "python",
   "nbconvert_exporter": "python",
   "pygments_lexer": "ipython3",
   "version": "3.10.4"
  }
 },
 "nbformat": 4,
 "nbformat_minor": 5
}

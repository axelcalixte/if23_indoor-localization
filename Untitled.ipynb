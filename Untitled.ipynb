{
 "cells": [
  {
   "cell_type": "markdown",
   "id": "narrative-kernel",
   "metadata": {},
   "source": [
    "# Prepare RSSI datas :"
   ]
  },
  {
   "cell_type": "markdown",
   "id": "killing-sweet",
   "metadata": {},
   "source": [
    "## Libs :"
   ]
  },
  {
   "cell_type": "code",
   "execution_count": 1,
   "id": "steady-summer",
   "metadata": {},
   "outputs": [],
   "source": [
    "from prepareRSSI import RssiDatas\n",
    "import pandas as pd\n",
    "import parameters as param"
   ]
  },
  {
   "cell_type": "markdown",
   "id": "documented-prairie",
   "metadata": {},
   "source": [
    "## Computation :"
   ]
  },
  {
   "cell_type": "code",
   "execution_count": 2,
   "id": "alternate-catalyst",
   "metadata": {},
   "outputs": [
    {
     "name": "stdout",
     "output_type": "stream",
     "text": [
      "166 access point will be deleted\n",
      "(55, 270)\n",
      "(55, 270)\n"
     ]
    }
   ],
   "source": [
    "RSSI = RssiDatas()\n",
    "\n",
    "RSSI.listMac()\n",
    "\n",
    "RSSI.importRssiValues(RSSI.file_path)\n",
    "    \n",
    "RSSI.correctDataWithinPosition()\n",
    "\n",
    "RSSI.correctDataWithinZone()\n",
    "\n",
    "RSSI.correctDataByDeletingMac()\n",
    "\n",
    "# convert array into dataframe\n",
    "DF = pd.DataFrame(RSSI.rssi)\n",
    "\n",
    "# save the dataframe as a csv file\n",
    "DF.to_csv(param.rssi_csv_output)"
   ]
  }
 ],
 "metadata": {
  "kernelspec": {
   "display_name": "Python 3",
   "language": "python",
   "name": "python3"
  },
  "language_info": {
   "codemirror_mode": {
    "name": "ipython",
    "version": 3
   },
   "file_extension": ".py",
   "mimetype": "text/x-python",
   "name": "python",
   "nbconvert_exporter": "python",
   "pygments_lexer": "ipython3",
   "version": "3.6.9"
  }
 },
 "nbformat": 4,
 "nbformat_minor": 5
}
